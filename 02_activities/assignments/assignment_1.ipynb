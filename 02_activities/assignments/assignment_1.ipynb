{
 "cells": [
  {
   "cell_type": "markdown",
   "id": "927ae8f4",
   "metadata": {},
   "source": [
    "# Assignment 1 - Building a Vision Model with Keras\n",
    "\n",
    "In this assignment, you will build a simple vision model using Keras. The goal is to classify images from the Fashion MNIST dataset, which contains images of clothing items.\n",
    "\n",
    "You will:\n",
    "1. Load and inspect the Fashion MNIST dataset.\n",
    "2. Run a simple baseline model to establish a performance benchmark.\n",
    "3. Build and evaluate a simple CNN model, choosing appropriate loss and metrics.\n",
    "4. Design and run controlled experiments on one hyperparameter (e.g., number of filters, kernel size, etc.) and one regularization technique (e.g., dropout, L2 regularization).\n",
    "5. Analyze the results and visualize the model's performance.\n",
    "\n",
    "# 1. Loading and Inspecting the Dataset\n",
    "\n",
    "Fashion MNIST is a dataset of grayscale images of clothing items, with 10 classes. Each image is 28x28 pixels, like the MNIST dataset of handwritten digits. Keras provides a convenient way to load this dataset. \n",
    "\n",
    "In this section, you should:\n",
    "\n",
    "- [ ] Inspect the shapes of the training and test sets to confirm their size and structure.\n",
    "- [ ] Convert the labels to one-hot encoded format if necessary. (There is a utility function in Keras for this.)\n",
    "- [ ] Visualize a few images from the dataset to understand what the data looks like."
   ]
  },
  {
   "cell_type": "code",
   "execution_count": 2,
   "id": "420c7178",
   "metadata": {},
   "outputs": [],
   "source": [
    "from tensorflow.keras.datasets import fashion_mnist\n",
    "(X_train, y_train), (X_test, y_test) = fashion_mnist.load_data()\n",
    "\n",
    "# Normalize the pixel values to be between 0 and 1\n",
    "X_train = X_train.astype('float32') / 255.0\n",
    "X_test = X_test.astype('float32') / 255.0\n",
    "\n",
    "# Classes in the Fashion MNIST dataset\n",
    "class_names = [\"T-shirt/top\", \"Trouser\", \"Pullover\", \"Dress\", \"Coat\", \"Sandal\", \"Shirt\", \"Sneaker\", \"Bag\", \"Ankle boot\"]"
   ]
  },
  {
   "cell_type": "code",
   "execution_count": 3,
   "id": "a6c89fe7",
   "metadata": {},
   "outputs": [
    {
     "name": "stdout",
     "output_type": "stream",
     "text": [
      "X_train shape: (60000, 28, 28), y_train shape: (60000,)\n",
      "X_test shape: (10000, 28, 28), y_test shape: (10000,)\n"
     ]
    }
   ],
   "source": [
    "# Inspect the shapes of the datasets\n",
    "print(f\"X_train shape: {X_train.shape}, y_train shape: {y_train.shape}\")\n",
    "print(f\"X_test shape: {X_test.shape}, y_test shape: {y_test.shape}\")\n",
    "\n",
    "\n",
    "# Convert labels to one-hot encoding\n",
    "from tensorflow.keras.utils import to_categorical\n",
    "y_train_onehot = to_categorical(y_train, num_classes=10)\n",
    "y_test_onehot = to_categorical(y_test, num_classes=10)\n",
    "\n"
   ]
  },
  {
   "cell_type": "code",
   "execution_count": 4,
   "id": "13e100db",
   "metadata": {},
   "outputs": [
    {
     "data": {
      "image/png": "[encoded data removed]",
      "text/plain": [
       "<Figure size 1000x500 with 5 Axes>"
      ]
     },
     "metadata": {},
     "output_type": "display_data"
    },
    {
     "data": {
      "image/png": "[encoded data removed]",
      "text/plain": [
       "<Figure size 1000x500 with 5 Axes>"
      ]
     },
     "metadata": {},
     "output_type": "display_data"
    }
   ],
   "source": [
    "import matplotlib.pyplot as plt\n",
    "# Verify the data looks as expected\n",
    "\n",
    "#create a function to plot samples from the dataset\n",
    "def plot_samples(X, y, num_samples=5):\n",
    "    plt.figure(figsize=(10, 5))\n",
    "    for i in range(num_samples):\n",
    "        plt.subplot(1, num_samples, i + 1)\n",
    "        plt.imshow(X[i], cmap='gray')\n",
    "        plt.title(class_names[y[i]])\n",
    "        plt.axis('off')\n",
    "    plt.show()\n",
    "# Plot a sample of 5 images from the training set\n",
    "plot_samples(X_train, y_train, num_samples=5)\n",
    "\n",
    "# Plot a sample from the test set\n",
    "plot_samples(X_test, y_test, num_samples=5)\n",
    "\n",
    "\n"
   ]
  },
  {
   "cell_type": "markdown",
   "id": "989f7dd0",
   "metadata": {},
   "source": [
    "Reflection: Does the data look as expected? How is the quality of the images? Are there any issues with the dataset that you notice?\n",
    "\n",
    "**Your answer here**\n",
    "\n",
    "The predictor data appears to be the 28x28 pixels as described. \n",
    "Image quality is somewhat concerning. \n",
    "T-shirt/top class looks especially ambiguous and may conflict with Pullover, Dress, and Shirt classes.\n",
    "Ankle boots may also look like hightop style (e.g. basketball) sneakers listed in class Sneaker."
   ]
  },
  {
   "cell_type": "markdown",
   "id": "c9e8ad60",
   "metadata": {},
   "source": [
    "# 2. Baseline Model\n",
    "\n",
    "In this section, you will create a linear regression model as a baseline. This model will not use any convolutional layers, but it will help you understand the performance of a simple model on this dataset.\n",
    "You should:\n",
    "- [ ] Create a simple linear regression model using Keras.\n",
    "- [ ] Compile the model with an appropriate loss function and optimizer.\n",
    "- [ ] Train the model on the training set and evaluate it on the test set.\n",
    "\n",
    "A linear regression model can be created using the `Sequential` API in Keras. Using a single `Dense` layer with no activation function is equivalent to a simple linear regression model. Make sure that the number of units in the output layer matches the number of classes in the dataset.\n",
    "\n",
    "Note that for this step, we will need to use `Flatten` to convert the 2D images into 1D vectors before passing them to the model. Put a `Flatten()` layer as the first layer in your model so that the 2D image data can be flattened into 1D vectors."
   ]
  },
  {
   "cell_type": "code",
   "execution_count": 19,
   "id": "8563a7aa",
   "metadata": {},
   "outputs": [
    {
     "name": "stdout",
     "output_type": "stream",
     "text": [
      "Epoch 1/10\n",
      "1500/1500 [==============================] - 5s 3ms/step - loss: 0.0875 - accuracy: 0.5674 - val_loss: 0.0676 - val_accuracy: 0.6745\n",
      "Epoch 2/10\n",
      "1500/1500 [==============================] - 6s 4ms/step - loss: 0.0618 - accuracy: 0.7033 - val_loss: 0.0576 - val_accuracy: 0.7289\n",
      "Epoch 3/10\n",
      "1500/1500 [==============================] - 9s 6ms/step - loss: 0.0549 - accuracy: 0.7419 - val_loss: 0.0528 - val_accuracy: 0.7547\n",
      "Epoch 4/10\n",
      "1500/1500 [==============================] - 4s 3ms/step - loss: 0.0510 - accuracy: 0.7618 - val_loss: 0.0500 - val_accuracy: 0.7672\n",
      "Epoch 5/10\n",
      "1500/1500 [==============================] - 4s 3ms/step - loss: 0.0486 - accuracy: 0.7747 - val_loss: 0.0477 - val_accuracy: 0.7742\n",
      "Epoch 6/10\n",
      "1500/1500 [==============================] - 4s 3ms/step - loss: 0.0468 - accuracy: 0.7825 - val_loss: 0.0462 - val_accuracy: 0.7812\n",
      "Epoch 7/10\n",
      "1500/1500 [==============================] - 4s 3ms/step - loss: 0.0454 - accuracy: 0.7884 - val_loss: 0.0451 - val_accuracy: 0.7891\n",
      "Epoch 8/10\n",
      "1500/1500 [==============================] - 4s 3ms/step - loss: 0.0444 - accuracy: 0.7928 - val_loss: 0.0442 - val_accuracy: 0.7922\n",
      "Epoch 9/10\n",
      "1500/1500 [==============================] - 4s 3ms/step - loss: 0.0435 - accuracy: 0.7970 - val_loss: 0.0433 - val_accuracy: 0.7936\n",
      "Epoch 10/10\n",
      "1500/1500 [==============================] - 4s 3ms/step - loss: 0.0428 - accuracy: 0.7997 - val_loss: 0.0426 - val_accuracy: 0.7949\n",
      "313/313 [==============================] - 1s 2ms/step - loss: 0.0434 - accuracy: 0.7875\n"
     ]
    },
    {
     "data": {
      "text/plain": [
       "[0.04341738298535347, 0.7875000238418579]"
      ]
     },
     "execution_count": 19,
     "metadata": {},
     "output_type": "execute_result"
    }
   ],
   "source": [
    "from keras.models import Sequential\n",
    "from keras.layers import Dense, Flatten\n",
    "\n",
    "# Create a simple linear regression model\n",
    "model = Sequential()\n",
    "# You can use `model.add(<layer>)` to add layers to the model\n",
    "model.add(Flatten(input_shape=(28, 28)))  # Flatten the input\n",
    "model.add(Dense(10))  # Dense layer with 10 units (one for each class)\n",
    "\n",
    "\n",
    "# Compile the model using `model.compile()`\n",
    "model.compile(optimizer= 'sgd', # Stochastic Gradient Descent optimizer appropriate for linear regression\n",
    "              loss= 'mean_squared_error', # Mean Squared Error for regression\n",
    "              metrics=['accuracy']\n",
    ")\n",
    "\n",
    "# Train the model with `model.fit()`\n",
    "model.fit(X_train, \n",
    "          y_train_onehot, \n",
    "          epochs=10, \n",
    "          batch_size=32,\n",
    "          validation_split=0.2\n",
    ")\n",
    "\n",
    "# Evaluate the model with `model.evaluate()`\n",
    "model.evaluate(X_test, y_test_onehot)\n"
   ]
  },
  {
   "cell_type": "markdown",
   "id": "9a07e9f7",
   "metadata": {},
   "source": [
    "Reflection: What is the performance of the baseline model? How does it compare to what you expected? Why do you think the performance is at this level?\n",
    "\n",
    "**Your answer here**"
   ]
  },
  {
   "cell_type": "markdown",
   "id": "f6faba12",
   "metadata": {},
   "source": [
    "The logistic regression results in a loss of 0.04 (MSE) and an accuracy of around 79%. This is better than I expected after viewing the images."
   ]
  },
  {
   "cell_type": "markdown",
   "id": "fa107b59",
   "metadata": {},
   "source": [
    "# 3. Building and Evaluating a Simple CNN Model\n",
    "\n",
    "In this section, you will build a simple Convolutional Neural Network (CNN) model using Keras. A convolutional neural network is a type of deep learning model that is particularly effective for image classification tasks. Unlike the basic neural networks we have built in the labs, CNNs can accept images as input without needing to flatten them into vectors.\n",
    "\n",
    "You should:\n",
    "- [ ] Build a simple CNN model with at least one convolutional layer (to learn spatial hierarchies in images) and one fully connected layer (to make predictions).\n",
    "- [ ] Compile the model with an appropriate loss function and metrics for a multi-class classification problem.\n",
    "- [ ] Train the model on the training set and evaluate it on the test set.\n",
    "\n",
    "Convolutional layers are designed to accept inputs with three dimensions: height, width and channels (e.g., RGB for color images). For grayscale images like those in Fashion MNIST, the input shape will be (28, 28, 1).\n",
    "\n",
    "When you progress from the convolutional layers to the fully connected layers, you will need to flatten the output of the convolutional layers. This can be done using the `Flatten` layer in Keras, which doesn't require any parameters."
   ]
  },
  {
   "cell_type": "code",
   "execution_count": 20,
   "id": "3513cf3d",
   "metadata": {},
   "outputs": [
    {
     "name": "stdout",
     "output_type": "stream",
     "text": [
      "Epoch 1/10\n",
      "1500/1500 [==============================] - 68s 45ms/step - loss: 0.3894 - accuracy: 0.8612 - val_loss: 0.3045 - val_accuracy: 0.8901\n",
      "Epoch 2/10\n",
      "1500/1500 [==============================] - 71s 47ms/step - loss: 0.2477 - accuracy: 0.9098 - val_loss: 0.2777 - val_accuracy: 0.8973\n",
      "Epoch 3/10\n",
      "1500/1500 [==============================] - 73s 49ms/step - loss: 0.1919 - accuracy: 0.9301 - val_loss: 0.2789 - val_accuracy: 0.9039\n",
      "Epoch 4/10\n",
      "1500/1500 [==============================] - 72s 48ms/step - loss: 0.1484 - accuracy: 0.9440 - val_loss: 0.2852 - val_accuracy: 0.9071\n",
      "Epoch 5/10\n",
      "1500/1500 [==============================] - 72s 48ms/step - loss: 0.1111 - accuracy: 0.9595 - val_loss: 0.3042 - val_accuracy: 0.9069\n",
      "Epoch 6/10\n",
      "1500/1500 [==============================] - 70s 47ms/step - loss: 0.0845 - accuracy: 0.9693 - val_loss: 0.3549 - val_accuracy: 0.9032\n",
      "Epoch 7/10\n",
      "1500/1500 [==============================] - 70s 47ms/step - loss: 0.0632 - accuracy: 0.9770 - val_loss: 0.3789 - val_accuracy: 0.9032\n",
      "Epoch 8/10\n",
      "1500/1500 [==============================] - 70s 46ms/step - loss: 0.0481 - accuracy: 0.9834 - val_loss: 0.4118 - val_accuracy: 0.9060\n",
      "Epoch 9/10\n",
      "1500/1500 [==============================] - 70s 47ms/step - loss: 0.0367 - accuracy: 0.9873 - val_loss: 0.4472 - val_accuracy: 0.9058\n",
      "Epoch 10/10\n",
      "1500/1500 [==============================] - 73s 49ms/step - loss: 0.0271 - accuracy: 0.9911 - val_loss: 0.4778 - val_accuracy: 0.9055\n",
      "313/313 [==============================] - 10s 32ms/step - loss: 0.4910 - accuracy: 0.8999\n"
     ]
    },
    {
     "data": {
      "text/plain": [
       "[0.49096885323524475, 0.8999000191688538]"
      ]
     },
     "execution_count": 20,
     "metadata": {},
     "output_type": "execute_result"
    }
   ],
   "source": [
    "from keras.layers import Conv2D\n",
    "\n",
    "# Reshape the data to include the channel dimension\n",
    "X_train = X_train.reshape(-1, 28, 28, 1)\n",
    "X_test = X_test.reshape(-1, 28, 28, 1)\n",
    "\n",
    "# Create a simple CNN model\n",
    "model = Sequential()\n",
    "#add a convolutional layer (to learn spatial hierarchies in images) and one fully connected layer (to make predictions).\n",
    "model.add(Conv2D(32, kernel_size=(3, 3), activation='relu', input_shape=(28, 28, 1)))  # Convolutional layer\n",
    "model.add(Flatten())  # Flatten the output from the convolutional layer\n",
    "model.add(Dense(128, activation='relu'))  # Fully connected layer\n",
    "model.add(Dense(10, activation='softmax'))  # Output layer with 10 units for each class\n",
    "\n",
    "# Compile the model using `model.compile()`\n",
    "model.compile(optimizer='adam',  # Adam optimizer for better convergence\n",
    "                loss='categorical_crossentropy',  # Categorical Crossentropy for multi-class classification\n",
    "                metrics=['accuracy']  # Accuracy as a metric\n",
    ")\n",
    "\n",
    "\n",
    "# Train the model\n",
    "model.fit(X_train, \n",
    "          y_train_onehot, \n",
    "          epochs=10, \n",
    "          batch_size=32,\n",
    "          validation_split=0.2\n",
    ")\n",
    "\n",
    "# Evaluate the model\n",
    "model.evaluate(X_test, y_test_onehot)"
   ]
  },
  {
   "cell_type": "markdown",
   "id": "fabe379c",
   "metadata": {},
   "source": [
    "Reflection: Did the CNN model perform better than the baseline model? If so, by how much? What do you think contributed to this improvement?\n",
    "\n",
    "**Your answer here**"
   ]
  },
  {
   "cell_type": "markdown",
   "id": "8adad5f4",
   "metadata": {},
   "source": [
    "Yes, the CNN model had better accuracy at ~90% vs ~79%. This is likely due the model was being able able to extract more information from 2 dimensions of data vs being reduced to a vector (1D)."
   ]
  },
  {
   "cell_type": "markdown",
   "id": "1a5e2463",
   "metadata": {},
   "source": [
    "# 3. Designing and Running Controlled Experiments\n",
    "\n",
    "In this section, you will design and run controlled experiments to improve the model's performance. You will focus on one hyperparameter and one regularization technique.\n",
    "You should:\n",
    "- [ ] Choose one hyperparameter to experiment with (e.g., number of filters, kernel size, number of layers, etc.) and one regularization technique (e.g., dropout, L2 regularization). For your hyperparameter, you should choose at least three different values to test (but there is no upper limit). For your regularization technique, simply test the presence or absence of the technique.\n",
    "- [ ] Run experiments by modifying the model architecture or hyperparameters, and evaluate the performance of each model on the test set.\n",
    "- [ ] Record the results of your experiments, including the test accuracy and any other relevant metrics.\n",
    "- [ ] Visualize the results of your experiments using plots or tables to compare the performance of different models.\n",
    "\n",
    "The best way to run your experiments is to create a `for` loop that iterates over a range of values for the hyperparameter you are testing. For example, if you are testing different numbers of filters, you can create a loop that runs the model with 32, 64, and 128 filters. Within the loop, you can compile and train the model, then evaluate it on the test set. After each iteration, you can store the results in a list or a dictionary for later analysis.\n",
    "\n",
    "Note: It's critical that you re-initialize the model (by creating a new instance of the model) before each experiment. If you don't, the model will retain the weights from the previous experiment, which can lead to misleading results."
   ]
  },
  {
   "cell_type": "code",
   "execution_count": null,
   "id": "99d6f46c",
   "metadata": {},
   "outputs": [
    {
     "name": "stdout",
     "output_type": "stream",
     "text": [
      "Filters: 16, Test Loss: 0.33, Test Accuracy: 0.90\n",
      "Filters: 32, Test Loss: 0.31, Test Accuracy: 0.91\n",
      "Filters: 64, Test Loss: 0.33, Test Accuracy: 0.90\n",
      "Filters: 128, Test Loss: 0.35, Test Accuracy: 0.90\n"
     ]
    }
   ],
   "source": [
    "# A. Test Hyperparameters\n",
    "# Number of Convolutional Filters\n",
    "\n",
    "#create a list of filter counts to test\n",
    "filter_list = [16, 32, 64, 128]\n",
    "# Create a list to store results\n",
    "filter_results = []\n",
    "\n",
    "for filters in filter_list:\n",
    "    # Create a new model for each filter count\n",
    "    model_filter = Sequential()\n",
    "    model_filter.add(Conv2D(filters, kernel_size=(3, 3), activation='relu', input_shape=(28, 28, 1)))\n",
    "    model_filter.add(Flatten())\n",
    "    model_filter.add(Dense(128, activation='relu'))\n",
    "    model_filter.add(Dense(10, activation='softmax'))\n",
    "\n",
    "    # Compile the model\n",
    "    model_filter.compile(optimizer='adam', loss='categorical_crossentropy', metrics=['accuracy'])\n",
    "\n",
    "    # Train the model\n",
    "    history = model_filter.fit(X_train, \n",
    "                                y_train_onehot, \n",
    "                                epochs=5, \n",
    "                                batch_size=32,\n",
    "                                validation_split=0.2,\n",
    "                                verbose=0)\n",
    "    \n",
    "    # Evaluate the model\n",
    "    filer_test_loss, filter_test_accuracy = model_filter.evaluate(X_test, y_test_onehot, verbose=0)\n",
    "    \n",
    "    # Store the results\n",
    "    filter_results.append((filters, filer_test_loss, filter_test_accuracy))\n",
    "\n",
    "\n"
   ]
  },
  {
   "cell_type": "code",
   "execution_count": 25,
   "id": "28197ccf",
   "metadata": {},
   "outputs": [
    {
     "name": "stdout",
     "output_type": "stream",
     "text": [
      "Filters: 16, Test Loss: 0.33, Test Accuracy: 0.90\n",
      "Filters: 32, Test Loss: 0.31, Test Accuracy: 0.91\n",
      "Filters: 64, Test Loss: 0.33, Test Accuracy: 0.90\n",
      "Filters: 128, Test Loss: 0.35, Test Accuracy: 0.90\n"
     ]
    }
   ],
   "source": [
    "#quickly print the results so I don't have to run the models again\n",
    "for filters, test_loss, test_accuracy in filter_results:\n",
    "    print(f\"Filters: {filters}, Test Loss: {test_loss:.2f}, Test Accuracy: {test_accuracy:.2f}\")"
   ]
  },
  {
   "cell_type": "code",
   "execution_count": 39,
   "id": "9e0810c9",
   "metadata": {},
   "outputs": [
    {
     "name": "stdout",
     "output_type": "stream",
     "text": [
      "[(16, 0.3304397761821747, 0.8956999778747559), (32, 0.31372523307800293, 0.9052000045776367), (64, 0.32775142788887024, 0.9009000062942505), (128, 0.3502982556819916, 0.8981999754905701)]\n"
     ]
    }
   ],
   "source": [
    "print(filter_results)"
   ]
  },
  {
   "cell_type": "code",
   "execution_count": null,
   "id": "e78a399d",
   "metadata": {},
   "outputs": [
    {
     "data": {
      "image/png": "[encoded data removed]",
      "text/plain": [
       "<Figure size 640x480 with 2 Axes>"
      ]
     },
     "metadata": {},
     "output_type": "display_data"
    }
   ],
   "source": [
    "#visualize the results of filter experiments\n",
    "\n",
    "filter_counts = [result[0] for result in filter_results]\n",
    "filter_accuracies = [result[2]*100 for result in filter_results]\n",
    "filter_losses = [result[1] for result in filter_results]\n",
    "\n",
    "# Create figure and axis\n",
    "fig, ax1 = plt.subplots()\n",
    "\n",
    "# Plot loss on primary y-axis\n",
    "color = 'tab:purple'\n",
    "ax1.set_xlabel('Filter Count')\n",
    "ax1.set_ylabel('Loss', color=color)\n",
    "ax1.plot(filter_counts, filter_losses, color=color, label='Loss')\n",
    "ax1.tick_params(axis='y', labelcolor=color)\n",
    "\n",
    "# Create second y-axis\n",
    "ax2 = ax1.twinx()  # share the same x-axis\n",
    "\n",
    "# Plot accuracy on secondary y-axis\n",
    "color = 'tab:green'\n",
    "ax2.set_ylabel('Accuracy', color=color)\n",
    "ax2.plot(filter_counts, filter_accuracies, color=color, label='Accuracy (%)')\n",
    "ax2.tick_params(axis='y', labelcolor=color)\n",
    "\n",
    "# Title and layout\n",
    "plt.title('Model Loss and Accuracy Over Different Filter Counts')\n",
    "fig.tight_layout()\n",
    "plt.show()\n",
    "\n",
    "\n"
   ]
  },
  {
   "cell_type": "markdown",
   "id": "6925686f",
   "metadata": {},
   "source": [
    "Therefore Accuracy was maximized and loss was minimized at Filter Count = 32."
   ]
  },
  {
   "cell_type": "code",
   "execution_count": 38,
   "id": "dc43ac81",
   "metadata": {},
   "outputs": [],
   "source": [
    "# B. Test presence or absence of regularization\n",
    "\n",
    "#dropout on/off\n",
    "dropout_results = []\n",
    "use_dropout_options = [False, True]\n",
    "\n",
    "#for loop to test dropout\n",
    "for use_dropout in use_dropout_options:\n",
    "    # Create a new model for each dropout option\n",
    "    model_dropout = Sequential()\n",
    "    model_dropout.add(Conv2D(32, kernel_size=(3, 3), activation='relu', input_shape=(28, 28, 1))) #filter count of 32 based on previous results\n",
    "    model_dropout.add(Flatten())\n",
    "    \n",
    "    if use_dropout:\n",
    "        from keras.layers import Dropout\n",
    "        model_dropout.add(Dropout(0.5))  # Add dropout layer with 50% dropout rate\n",
    "    \n",
    "    model_dropout.add(Dense(128, activation='relu'))\n",
    "    model_dropout.add(Dense(10, activation='softmax'))\n",
    "\n",
    "    # Compile the model\n",
    "    model_dropout.compile(optimizer='adam', loss='categorical_crossentropy', metrics=['accuracy'])\n",
    "\n",
    "    # Train the model\n",
    "    history = model_dropout.fit(X_train, \n",
    "                                y_train_onehot, \n",
    "                                epochs=5, \n",
    "                                batch_size=32,\n",
    "                                validation_split=0.2,\n",
    "                                verbose=0)\n",
    "    \n",
    "    # Evaluate the model\n",
    "    dropout_test_loss, dropout_test_accuracy = model_dropout.evaluate(X_test, y_test_onehot, verbose=0)\n",
    "    \n",
    "    # Store the results\n",
    "    dropout_results.append((use_dropout, dropout_test_loss, dropout_test_accuracy))\n",
    "\n",
    "\n",
    "\n"
   ]
  },
  {
   "cell_type": "code",
   "execution_count": 41,
   "id": "84919397",
   "metadata": {},
   "outputs": [
    {
     "name": "stdout",
     "output_type": "stream",
     "text": [
      "Filters: 128, Test Loss: 0.33, Test Accuracy: 0.90\n",
      "Filters: 128, Test Loss: 0.29, Test Accuracy: 0.90\n"
     ]
    }
   ],
   "source": [
    "# Print the results\n",
    "for dropout, test_loss, test_accuracy in dropout_results:\n",
    "    print(f\"Filters: {filters}, Test Loss: {test_loss:.2f}, Test Accuracy: {test_accuracy:.2f}\")"
   ]
  },
  {
   "cell_type": "code",
   "execution_count": 65,
   "id": "bf04e02a",
   "metadata": {},
   "outputs": [
    {
     "data": {
      "image/png": "[encoded data removed]",
      "text/plain": [
       "<Figure size 640x480 with 2 Axes>"
      ]
     },
     "metadata": {},
     "output_type": "display_data"
    }
   ],
   "source": [
    "import numpy as np\n",
    "\n",
    "#visualize the results of dropout experiments\n",
    "\n",
    "dropout_options = ['Without Dropout', 'With Dropout']\n",
    "dropout_accuracies = [result[2]*100 for result in dropout_results]\n",
    "dropout_losses = [result[1] for result in dropout_results]\n",
    "# Create figure and axis\n",
    "fig, (ax1, ax2) = plt.subplots(1, 2)\n",
    "# Plot accuracy on primary y-axis\n",
    "color = 'tab:blue'\n",
    "bar1 = ax1.bar(dropout_options, dropout_losses, color=color, label='Loss')\n",
    "ax1.set_ylabel('Loss', color=color)\n",
    "ax1.tick_params(axis='y', labelcolor=color)\n",
    "\n",
    "# Plot accuracy on secondary y-axis\n",
    "color = 'tab:red'\n",
    "bar2 = ax2.bar(dropout_options, dropout_accuracies, color=color, label='Accuracy (%)')\n",
    "ax2.set_ylabel('Accuracy', color=color)\n",
    "ax2.yaxis.set_label_position(\"right\")  # Move the y-axis label to the right\n",
    "\n",
    "ax2.tick_params(axis='y', labelcolor=color)\n",
    "ax2.yaxis.tick_right()  # Show ticks on the right side\n",
    "# Title and layout\n",
    "plt.suptitle('Model Loss and Accuracy With and Without Dropout')\n",
    "plt.tight_layout()\n",
    "plt.show()\n",
    "\n",
    "\n",
    "\n",
    "\n",
    "\n"
   ]
  },
  {
   "cell_type": "markdown",
   "id": "cb426f26",
   "metadata": {},
   "source": [
    "Reflection: Report on the performance of the models you tested. Did any of the changes you made improve the model's performance? If so, which ones? What do you think contributed to these improvements? Finally, what combination of hyperparameters and regularization techniques yielded the best performance?\n",
    "\n",
    "**Your answer here**"
   ]
  },
  {
   "cell_type": "markdown",
   "id": "1ad3a2ff",
   "metadata": {},
   "source": [
    "Models were comparable on accuracy regardless of dropout being on or off. However, the loss improved somewhat with dropout."
   ]
  },
  {
   "cell_type": "markdown",
   "id": "46c43a3d",
   "metadata": {},
   "source": [
    "# 5. Training Final Model and Evaluation\n",
    "\n",
    "In this section, you will train the final model using the best hyperparameters and regularization techniques you found in the previous section. You should:\n",
    "- [ ] Compile the final model with the best hyperparameters and regularization techniques.\n",
    "- [ ] Train the final model on the training set and evaluate it on the test set.\n",
    "- [ ] Report the final model's performance on the test set, including accuracy and any other relevant metrics."
   ]
  },
  {
   "cell_type": "code",
   "execution_count": 66,
   "id": "31f926d1",
   "metadata": {},
   "outputs": [
    {
     "name": "stdout",
     "output_type": "stream",
     "text": [
      "Epoch 1/10\n",
      "1500/1500 [==============================] - 74s 49ms/step - loss: 0.4116 - accuracy: 0.8531 - val_loss: 0.3241 - val_accuracy: 0.8823\n",
      "Epoch 2/10\n",
      "1500/1500 [==============================] - 74s 49ms/step - loss: 0.2860 - accuracy: 0.8943 - val_loss: 0.3055 - val_accuracy: 0.8915\n",
      "Epoch 3/10\n",
      "1500/1500 [==============================] - 76s 51ms/step - loss: 0.2360 - accuracy: 0.9112 - val_loss: 0.2727 - val_accuracy: 0.9020\n",
      "Epoch 4/10\n",
      "1500/1500 [==============================] - 75s 50ms/step - loss: 0.2006 - accuracy: 0.9244 - val_loss: 0.2687 - val_accuracy: 0.9055\n",
      "Epoch 5/10\n",
      "1500/1500 [==============================] - 79s 53ms/step - loss: 0.1720 - accuracy: 0.9353 - val_loss: 0.2714 - val_accuracy: 0.9072\n",
      "Epoch 6/10\n",
      "1500/1500 [==============================] - 79s 53ms/step - loss: 0.1469 - accuracy: 0.9448 - val_loss: 0.2808 - val_accuracy: 0.9075\n",
      "Epoch 7/10\n",
      "1500/1500 [==============================] - 82s 55ms/step - loss: 0.1309 - accuracy: 0.9510 - val_loss: 0.2917 - val_accuracy: 0.9101\n",
      "Epoch 8/10\n",
      "1500/1500 [==============================] - 82s 55ms/step - loss: 0.1178 - accuracy: 0.9560 - val_loss: 0.3108 - val_accuracy: 0.9062\n",
      "Epoch 9/10\n",
      "1500/1500 [==============================] - 82s 54ms/step - loss: 0.0997 - accuracy: 0.9617 - val_loss: 0.3291 - val_accuracy: 0.9090\n",
      "Epoch 10/10\n",
      "1500/1500 [==============================] - 83s 55ms/step - loss: 0.0900 - accuracy: 0.9666 - val_loss: 0.3217 - val_accuracy: 0.9078\n",
      "313/313 [==============================] - 8s 26ms/step - loss: 0.3399 - accuracy: 0.9026\n"
     ]
    },
    {
     "data": {
      "text/plain": [
       "[0.3398774266242981, 0.9025999903678894]"
      ]
     },
     "execution_count": 66,
     "metadata": {},
     "output_type": "execute_result"
    }
   ],
   "source": [
    "from keras.layers import Dropout\n",
    "\n",
    "# Create a final CNN model\n",
    "model_final = Sequential()\n",
    "#add a convolutional layer (to learn spatial hierarchies in images) and one fully connected layer (to make predictions).\n",
    "model_final.add(Conv2D(32, kernel_size=(3, 3), activation='relu', input_shape=(28, 28, 1)))  # 32 filters based on experiment results\n",
    "model_final.add(Flatten())  # Flatten the output from the convolutional layer\n",
    "model_final.add(Dropout(0.5))  # Add dropout layer with 50% dropout rate per experimentation\n",
    "model_final.add(Dense(128, activation='relu'))  # Fully connected layer\n",
    "model_final.add(Dense(10, activation='softmax'))  # Output layer with 10 units for each class\n",
    "\n",
    "# Compile the model using `model.compile()`\n",
    "model_final.compile(optimizer='adam',  # Adam optimizer for better convergence\n",
    "                loss='categorical_crossentropy',  # Categorical Crossentropy for multi-class classification\n",
    "                metrics=['accuracy']  # Accuracy as a metric\n",
    ")\n",
    "\n",
    "\n",
    "# Train the model\n",
    "model_final.fit(X_train, \n",
    "          y_train_onehot, \n",
    "          epochs=10, \n",
    "          batch_size=32,\n",
    "          validation_split=0.2\n",
    ")\n",
    "\n",
    "# Evaluate the model\n",
    "model_final.evaluate(X_test, y_test_onehot)\n"
   ]
  },
  {
   "cell_type": "markdown",
   "id": "a01f8ebc",
   "metadata": {},
   "source": [
    "Reflection: How does the final model's performance compare to the baseline and the CNN model? What do you think contributed to the final model's performance? If you had time, what other experiments would you run to further improve the model's performance?\n",
    "\n",
    "**Your answer here**"
   ]
  },
  {
   "cell_type": "markdown",
   "id": "48546b8e",
   "metadata": {},
   "source": [
    "\n",
    "Baseline: loss = 0.04 (MSE), Accuracy= 78.8%\n",
    "Simple CNN: loss = 0.49 (Cat. Crossentropy), Accuracy= 90.0%\n",
    "Final CNN: loss = 0.34 (Cat. Crossentropy), Accuracy= 90.3%\n",
    "\n",
    "The final model had a small improvement on the Simple CNN in terms of loss metrics, but accuracy was similar. Both were an improvement on the baseline model (but used a different loss metric). \n",
    "Model improvements were mostly driven by opting for a CNN compared to logistic regression, with subsequent experimentation on hyperparameters and regularization yielding minimal improvements. \n",
    "This suggests that the typical hyperparameters used for this kind of problem are a strong starting point for CNNs.\n",
    "\n",
    "In addition to the experimentation suggestions listed in the problem, the problem is laid out to assume that the regularization is additive to the hyperparamatarization rather than interactive - that is we were asked to test the independent influence of each on a model. Given the time I might look at the interaction between the 4 filter levels and 2 dropout levels leading to 8 models to compare.\n",
    "Would also have been interesting to test some of the potential interaction between kernal sizes and the number of filters/kernals."
   ]
  },
  {
   "cell_type": "markdown",
   "id": "01db8512",
   "metadata": {},
   "source": [
    "🚨 **Please review our [Assignment Submission Guide](https://github.com/UofT-DSI/onboarding/blob/main/onboarding_documents/submissions.md)** 🚨 for detailed instructions on how to format, branch, and submit your work. Following these guidelines is crucial for your submissions to be evaluated correctly.\n",
    "### Submission Parameters:\n",
    "* Submission Due Date: `23:59 PM - 06/07/2025`\n",
    "* The branch name for your repo should be: `assignment-1`\n",
    "* What to submit for this assignment:\n",
    "    * This Jupyter Notebook (assignment_1.ipynb)\n",
    "    * The Lab 1 notebook (labs/lab_1.ipynb)\n",
    "    * The Lab 2 notebook (labs/lab_2.ipynb)\n",
    "* What the pull request link should look like for this assignment: `https://github.com/<your_github_username>/deep_learning/pull/<pr_id>`\n",
    "* Open a private window in your browser. Copy and paste the link to your pull request into the address bar. Make sure you can see your pull request properly. This helps the technical facilitator and learning support staff review your submission easily.\n",
    "Checklist:\n",
    "- [ ] Created a branch with the correct naming convention.\n",
    "- [ ] Ensured that the repository is public.\n",
    "- [ ] Reviewed the PR description guidelines and adhered to them.\n",
    "- [ ] Verify that the link is accessible in a private browser window.\n",
    "If you encounter any difficulties or have questions, please don't hesitate to reach out to our team via our Slack at `#cohort-6-ml-help`. Our Technical Facilitators and Learning Support staff are here to help you navigate any challenges."
   ]
  }
 ],
 "metadata": {
  "kernelspec": {
   "display_name": "dsi_participant",
   "language": "python",
   "name": "python3"
  },
  "language_info": {
   "codemirror_mode": {
    "name": "ipython",
    "version": 3
   },
   "file_extension": ".py",
   "mimetype": "text/x-python",
   "name": "python",
   "nbconvert_exporter": "python",
   "pygments_lexer": "ipython3",
   "version": "3.9.15"
  }
 },
 "nbformat": 4,
 "nbformat_minor": 5
}
